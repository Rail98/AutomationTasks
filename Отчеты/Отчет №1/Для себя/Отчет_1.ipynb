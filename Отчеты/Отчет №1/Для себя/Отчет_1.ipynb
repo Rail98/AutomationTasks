{
 "cells": [
  {
   "cell_type": "markdown",
   "id": "5d3608a9",
   "metadata": {},
   "source": [
    "#### Для каждого отчета потребуется:\n",
    "- python-скрипт с расшерением `.py`;\n",
    "- файл с sql-запросами (`.sql`, `.txt`);\n",
    "- excel-файл, в котором будет сохранена шапка будущего запроса."
   ]
  },
  {
   "cell_type": "markdown",
   "id": "47461afc",
   "metadata": {},
   "source": [
    "#### Простой отчет\n",
    "Здесь будет выполняться только один запрос. Поэтому нам не потребуется `threading` (распараллеливание, многопоточность)."
   ]
  },
  {
   "cell_type": "code",
   "execution_count": null,
   "id": "282dc81c",
   "metadata": {},
   "outputs": [],
   "source": [
    "print(\"Начало запуска Отчета №1...\")"
   ]
  },
  {
   "cell_type": "code",
   "execution_count": 1,
   "id": "52d429a8",
   "metadata": {},
   "outputs": [],
   "source": [
    "# импортируем все нужные библиотеки для выполения кода\n",
    "import pandas as pd\n",
    "import pyodbc\n",
    "import openpyxl as ox\n",
    "from datetime import date\n",
    "import calendar\n",
    "import os\n",
    "import time\n",
    "from openpyxl.styles import Alignment # определяет положение значения в ячейки (слева, справа, по середине)\n",
    "from openpyxl.styles import Font # может менять шрифт\n",
    "from openpyxl.styles.borders import Border, Side # для добавления границ\n",
    "from openpyxl.styles import PatternFill # для закрашивания\n",
    "from openpyxl.styles import colors\n",
    "\n",
    "#pd.set_option(\"display.max_columns\", 50)"
   ]
  },
  {
   "cell_type": "code",
   "execution_count": 2,
   "id": "4d31a666",
   "metadata": {},
   "outputs": [],
   "source": [
    "# Для конвертации расширения .ipynb в .py прописываем в командной строке:\n",
    "# jupyter nbconvert Отчет_1.ipynb --to script"
   ]
  },
  {
   "cell_type": "code",
   "execution_count": 3,
   "id": "82935a8d",
   "metadata": {},
   "outputs": [],
   "source": [
    "# указываем параметры соединения\n",
    "sql_server = '192.168.2.128'\n",
    "database = 'nefco'\n",
    "driver = '{SQL Server Native Client 10.0}'\n",
    "conn_string = f'SERVER={sql_server};DATABASE={database};DRIVER={driver};Trusted_connection=Yes'"
   ]
  },
  {
   "cell_type": "code",
   "execution_count": 4,
   "id": "29daeff6",
   "metadata": {},
   "outputs": [],
   "source": [
    "# создаем список имен месяцов, чтобы затем указать имя текущего месяца на русском\n",
    "name_of_months = ['Не указан', 'Январь', 'Февраль', \n",
    "                  'Март', 'Апрель', 'Май', \n",
    "                  'Июнь', 'Июль', 'Август', \n",
    "                  'Сентябрь', 'Октябрь', 'Ноябрь', \n",
    "                  'Декабрь']\n",
    "current_month = int(date.today().strftime(\"%m\")) # текущий месяц\n",
    "current_date = date.today() # текущая дата"
   ]
  },
  {
   "cell_type": "code",
   "execution_count": 9,
   "id": "358f300c",
   "metadata": {},
   "outputs": [],
   "source": [
    "# создаем папки, если её не существует\n",
    "path_folders = os.path.join(current_date.strftime(\"%Y\"), \n",
    "                            name_of_months[current_month], \n",
    "                            current_date.strftime(\"%Y.%m.%d\")) # путь, состоящий только из папок\n",
    "if not os.path.isdir(path_folders):\n",
    "     os.makedirs(path_folders)"
   ]
  },
  {
   "cell_type": "markdown",
   "id": "fef2bcd7",
   "metadata": {},
   "source": [
    "#### Выгрузка данных"
   ]
  },
  {
   "cell_type": "markdown",
   "id": "b17fc81a",
   "metadata": {},
   "source": [
    "Подключимся к базе данных.\n",
    "В начале коннектимся, а в конце закрываем соединение. В середине будем использовать контекстные менеджеры `with as` для каждого запроса.\n"
   ]
  },
  {
   "cell_type": "code",
   "execution_count": null,
   "id": "b1365134",
   "metadata": {},
   "outputs": [],
   "source": [
    "conn = pyodbc.connect(conn_string) # подключаемся к бд"
   ]
  },
  {
   "cell_type": "code",
   "execution_count": null,
   "id": "764ea951",
   "metadata": {},
   "outputs": [],
   "source": [
    "print(\"Выполняется запрос 'Изменилась дата отгрузки.sql'...\")"
   ]
  },
  {
   "cell_type": "code",
   "execution_count": null,
   "id": "18d59fe2",
   "metadata": {},
   "outputs": [],
   "source": [
    "#%%time\n",
    "path_to_query = os.path.join('SQL запросы',\n",
    "                             'Изменилась дата отгрузки.sql') # путь, в котором хранится запрос\n",
    "# считываем запрос, и сохраяем его в датасет\n",
    "with open(path_to_query) as query:\n",
    "    df = pd.read_sql(query.read(), conn)"
   ]
  },
  {
   "cell_type": "code",
   "execution_count": null,
   "id": "c6ab1009",
   "metadata": {},
   "outputs": [],
   "source": [
    "conn.close() # отключаемся от бд"
   ]
  },
  {
   "cell_type": "code",
   "execution_count": 10,
   "id": "af1bf527",
   "metadata": {
    "scrolled": true
   },
   "outputs": [
    {
     "name": "stdout",
     "output_type": "stream",
     "text": [
      "Запрос выполнен...\n"
     ]
    }
   ],
   "source": [
    "print('Запрос выполнен...')"
   ]
  },
  {
   "cell_type": "markdown",
   "id": "d3aea6a1",
   "metadata": {},
   "source": [
    "#### Обработка данных"
   ]
  },
  {
   "cell_type": "markdown",
   "id": "6bf1a568",
   "metadata": {},
   "source": [
    "Далее можно провести обработку таблицы, используя библиотеку pandas. Например, избавиться от лишних пробелов в значениях, найти новые переменные (среднее, сумму и т.д.).   "
   ]
  },
  {
   "cell_type": "code",
   "execution_count": null,
   "id": "ae9111bb",
   "metadata": {},
   "outputs": [],
   "source": [
    "# создадим новую колонку, в котором нумерация начинается с 1 \n",
    "df.index += 1\n",
    "df = df.reset_index()"
   ]
  },
  {
   "cell_type": "code",
   "execution_count": null,
   "id": "584ea6aa",
   "metadata": {},
   "outputs": [],
   "source": [
    "# удалим пробелы в начале и в конце слов у некоторых столбцов\n",
    "columns = ['date_imp', 'date_otgr_pl1', 'date_otgr_fact', 'date_otgr_pl2', 'pl_vchera', 'pl_pozavchera', 'pl_ish']\n",
    "for col in columns:\n",
    "    df[col] = df[col].str.strip()"
   ]
  },
  {
   "cell_type": "markdown",
   "id": "4d686e4d",
   "metadata": {},
   "source": [
    "#### Внесение данных в эксель"
   ]
  },
  {
   "cell_type": "markdown",
   "id": "b6456e06",
   "metadata": {},
   "source": [
    "Теперь нужно залить данные в эксель. Для этого мы заранее подготовили шаблон (шапку), в которую мы и зальем наши данные."
   ]
  },
  {
   "cell_type": "code",
   "execution_count": 11,
   "id": "8487e24a",
   "metadata": {},
   "outputs": [],
   "source": [
    "# указываем путь, в котором хрантся наш шаблон, и путь, куда сохраним уже готовый отчет\n",
    "path_from = os.path.join('Excel шаблоны',\n",
    "                         'Изменилась дата отгрузки шаблон.xlsx')\n",
    "path_to = os.path.join(path_folders, \n",
    "                       f'Изменилась дата отгрузки от {date.today().strftime(\"%d.%m.%Y\")}.xlsx') "
   ]
  },
  {
   "cell_type": "code",
   "execution_count": 12,
   "id": "a829025c",
   "metadata": {},
   "outputs": [
    {
     "name": "stdout",
     "output_type": "stream",
     "text": [
      "Создается эксель файл...\n"
     ]
    }
   ],
   "source": [
    "print('Создается эксель файл...')"
   ]
  },
  {
   "cell_type": "code",
   "execution_count": null,
   "id": "67bf2cac",
   "metadata": {},
   "outputs": [],
   "source": [
    "#%%time\n",
    "\n",
    "wb = ox.load_workbook(path_from) # загружаем наш шаблон\n",
    "ws = wb.active # выбираем лист \n",
    "\n",
    "ws.cell(2, 3).value = f'Дата отчета: {current_date.strftime(\"%d.%m.%Y\")} (время выгрузки 08:00)'\n",
    "\n",
    "ws.cell(6, 15).value = f'=O7+O8+SUMIFS(O10:O{9+len(df)},B10:B{9+len(df)},\"=17\")'\n",
    "ws.cell(7, 15).value = f'=SUMIFS(O10:O{9+len(df)},B10:B{9+len(df)},\"<>13\",B10:B{9+len(df)},\"<>17\")'\n",
    "ws.cell(8, 15).value = f'=SUMIFS(O10:O{9+len(df)},B10:B{9+len(df)},\"=13\")'\n",
    "ws.cell(9, 15).value = f'=SUMIF(W10:W{9+len(df)},\"=0\",O10:O{9+len(df)})'\n",
    "ws.cell(9, 15).value = f'=SUMIF(W10:W{9+len(df)},\"=0\",O10:O{9+len(df)})'\n",
    "#ws.cell(9, 15).font = Font(bold=True) # можно задать жирный шрифт отсюда или указать в шаапке шаблона\n",
    "\n",
    "for ir in range(df.shape[0]):\n",
    "    for ic in range(df.shape[1]):\n",
    "        ws.cell(10 + ir, 1 + ic).value = df.iloc[ir][ic] # заносим значения по ячеечкам\n",
    "    ws.cell(10 + ir, 8).number_format = 'dd mm yyyy' # задаем формат ячеек\n",
    "    ws.cell(10 + ir, 8).alignment = Alignment(horizontal='right') # задаем выравнивание (по правому краю)\n",
    "    ws.cell(10 + ir, 9).number_format = 'dd mm yyyy'\n",
    "    ws.cell(10 + ir, 9).alignment = Alignment(horizontal='right')\n",
    "    ws.cell(10 + ir, 15).number_format = '000000'\n",
    "    ws.cell(10 + ir, 16).number_format = 'dd mm yyyy'\n",
    "    ws.cell(10 + ir, 16).alignment = Alignment(horizontal='right')\n",
    "    ws.cell(10 + ir, 17).number_format = 'dd mm yyyy'\n",
    "    ws.cell(10 + ir, 17).alignment = Alignment(horizontal='right')\n",
    "    ws.cell(10 + ir, 18).number_format = 'dd mm yyyy'\n",
    "    ws.cell(10 + ir, 18).alignment = Alignment(horizontal='right')\n",
    "    ws.cell(10 + ir, 19).number_format = 'dd mm yyyy'\n",
    "    ws.cell(10 + ir, 19).alignment = Alignment(horizontal='right')\n",
    "    ws.cell(10 + ir, 22).value = f'=MONTH($P{10+ir})=MONTH($S{10+ir})'\n",
    "    ws.cell(10 + ir, 23).value = f'=$V{10+ir}+0'\n",
    "#print(ws.cell(11, 19).number_format)\n",
    "\n",
    "ws.print_area = f\"A1:V{9+len(df)}\" # определяем область печати (нужно указать вручную только диапозон столбцов, а строки сами подтянутся автоматом)\n",
    "\n",
    "wb.save(path_to) # сохраняемся"
   ]
  },
  {
   "cell_type": "code",
   "execution_count": 13,
   "id": "efb61cb4",
   "metadata": {},
   "outputs": [
    {
     "name": "stdout",
     "output_type": "stream",
     "text": [
      "'Изменилась дата отгрузки от 11.02.2023.xlsx' файл создан...\n"
     ]
    }
   ],
   "source": [
    "print(f''''Изменилась дата отгрузки от {date.today().strftime(\"%d.%m.%Y\")}.xlsx' файл создан...''')"
   ]
  },
  {
   "cell_type": "code",
   "execution_count": null,
   "id": "a4e85aff",
   "metadata": {},
   "outputs": [
    {
     "name": "stdout",
     "output_type": "stream",
     "text": [
      "-----\n",
      "-----\n",
      "Успех! Отчет выполнен.\n",
      "-----\n",
      "-----\n"
     ]
    }
   ],
   "source": [
    "print('-----')\n",
    "print('-----')\n",
    "print('Успех! Отчет выполнен. Можно закрыть консоль.')\n",
    "print('-----')\n",
    "print('-----')\n",
    "time.sleep(3600*23)"
   ]
  },
  {
   "cell_type": "code",
   "execution_count": null,
   "id": "ed84d3e5",
   "metadata": {},
   "outputs": [],
   "source": []
  },
  {
   "cell_type": "code",
   "execution_count": null,
   "id": "ba728053",
   "metadata": {},
   "outputs": [],
   "source": []
  },
  {
   "cell_type": "code",
   "execution_count": null,
   "id": "6d192f9c",
   "metadata": {},
   "outputs": [],
   "source": []
  },
  {
   "cell_type": "code",
   "execution_count": null,
   "id": "aecc965f",
   "metadata": {},
   "outputs": [],
   "source": []
  },
  {
   "cell_type": "code",
   "execution_count": null,
   "id": "20d53d35",
   "metadata": {},
   "outputs": [],
   "source": []
  }
 ],
 "metadata": {
  "kernelspec": {
   "display_name": "Python 3 (ipykernel)",
   "language": "python",
   "name": "python3"
  },
  "language_info": {
   "codemirror_mode": {
    "name": "ipython",
    "version": 3
   },
   "file_extension": ".py",
   "mimetype": "text/x-python",
   "name": "python",
   "nbconvert_exporter": "python",
   "pygments_lexer": "ipython3",
   "version": "3.9.0"
  }
 },
 "nbformat": 4,
 "nbformat_minor": 5
}
