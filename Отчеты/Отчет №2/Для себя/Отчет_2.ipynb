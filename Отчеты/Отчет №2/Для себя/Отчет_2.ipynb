{
 "cells": [
  {
   "cell_type": "markdown",
   "id": "47461afc",
   "metadata": {},
   "source": [
    "#### Средний отчет\n",
    "В отчете будет несколько запросов. Используем библиотеку `threading`, чтобы запустить параллельно сразу несколько запросов.\n",
    "\n",
    "Таблицы, которые нужны для отчетности, могут храниться на разных серверах. Для удобства, сделаем так, чтобы мы могли указывать, к какому серверу мы подключаемся."
   ]
  },
  {
   "cell_type": "code",
   "execution_count": null,
   "id": "282dc81c",
   "metadata": {},
   "outputs": [],
   "source": [
    "print(\"Начало запуска Отчета №2...\")"
   ]
  },
  {
   "cell_type": "code",
   "execution_count": 1,
   "id": "52d429a8",
   "metadata": {},
   "outputs": [],
   "source": [
    "# импортируем все нужные библиотеки для выполения кода\n",
    "import pandas as pd\n",
    "import pyodbc\n",
    "import openpyxl as ox\n",
    "from datetime import date\n",
    "import calendar\n",
    "import os\n",
    "import time\n",
    "from openpyxl.styles import Alignment # определяет положение значения в ячейки (слева, справа, по середине)\n",
    "from openpyxl.styles import Font # может менять шрифт\n",
    "from openpyxl.styles.borders import Border, Side # для добавления границ\n",
    "from openpyxl.styles import PatternFill # для закрашивания\n",
    "from openpyxl.styles import colors\n",
    "\n",
    "#import threading\n",
    "from threading import Thread\n",
    "\n",
    "#pd.set_option(\"display.max_columns\", 50)"
   ]
  },
  {
   "cell_type": "code",
   "execution_count": 2,
   "id": "4d31a666",
   "metadata": {},
   "outputs": [],
   "source": [
    "# Для конвертации расширения .ipynb в .py прописываем в командной строке:\n",
    "# jupyter nbconvert Отчет_2.ipynb --to script"
   ]
  },
  {
   "cell_type": "code",
   "execution_count": 4,
   "id": "29daeff6",
   "metadata": {},
   "outputs": [],
   "source": [
    "# создаем список имен месяцов, чтобы затем указать имя текущего месяца на русском\n",
    "name_of_months = ['Не указан', 'Январь', 'Февраль', \n",
    "                  'Март', 'Апрель', 'Май', \n",
    "                  'Июнь', 'Июль', 'Август', \n",
    "                  'Сентябрь', 'Октябрь', 'Ноябрь', \n",
    "                  'Декабрь']\n",
    "current_month = int(date.today().strftime(\"%m\")) # текущий месяц\n",
    "current_date = date.today() # текущая дата"
   ]
  },
  {
   "cell_type": "code",
   "execution_count": 9,
   "id": "358f300c",
   "metadata": {},
   "outputs": [],
   "source": [
    "# создаем папки, если её не существует\n",
    "path_folders = os.path.join(current_date.strftime(\"%Y\"), \n",
    "                            name_of_months[current_month], \n",
    "                            current_date.strftime(\"%Y.%m.%d\")) # путь, состоящий только из папок\n",
    "if not os.path.isdir(path_folders):\n",
    "     os.makedirs(path_folders)"
   ]
  },
  {
   "cell_type": "markdown",
   "id": "fef2bcd7",
   "metadata": {},
   "source": [
    "#### Выгрузка данных"
   ]
  },
  {
   "cell_type": "markdown",
   "id": "b17fc81a",
   "metadata": {},
   "source": [
    "Подключимся к базе данных.\n",
    "В начале коннектимся, а в конце закрываем соединение. В середине будем использовать контекстные менеджеры `with as` для каждого запроса.\n"
   ]
  },
  {
   "cell_type": "code",
   "execution_count": null,
   "id": "0bf8a36e",
   "metadata": {},
   "outputs": [],
   "source": [
    "# создадим функцию для соединения с сервером\n",
    "def connection(params):\n",
    "    conn = pyodbc.connect(server=params['server_name'],\n",
    "                          database=params['database_name'],\n",
    "                          driver=params['driver_name'],\n",
    "                          Trusted_Connection='yes')\n",
    "    return conn\n",
    "\n",
    "def read_sql(connection_params, path_to_query, result_list, index):\n",
    "    conn = connection(connection_params)\n",
    "    with open(path_to_query) as query:\n",
    "        result_list[index] = pd.read_sql(query.read(), conn)\n",
    "    conn.close()"
   ]
  },
  {
   "cell_type": "code",
   "execution_count": null,
   "id": "764ea951",
   "metadata": {},
   "outputs": [],
   "source": [
    "print(\"Выполняется запрос 'Изменилась дата отгрузки.sql'...\")"
   ]
  },
  {
   "cell_type": "code",
   "execution_count": null,
   "id": "ab8c5816",
   "metadata": {},
   "outputs": [],
   "source": [
    "results = [None]*2"
   ]
  },
  {
   "cell_type": "code",
   "execution_count": null,
   "id": "4a4c1621",
   "metadata": {},
   "outputs": [],
   "source": [
    "connection_params = {'server_name': 'DESKTOP-TI9PUNE\\TESTSERVER',\n",
    "                     'database_name': 'testdb'\n",
    "                     'driver_name': '{ODBC Driver 17 for SQL Server}'} # указываем параметры соединения с серверов\n",
    "\n",
    "path_to_query = os.path.join('SQL запросы', '(Тек.м) Акции по LKA с тм збк new.sql') # путь, где лежит запрос\n",
    "Thread_1 = Thread(target=read_sql, args=(connection_params, path_to_query, results, 0)) # создаем объект Thread\n",
    "Thread_1.start() # паралелльно запускаем запрос\n",
    "\n",
    "\n",
    "connection_params = {'server_name': 'DESKTOP-TI9PUNE\\TESTSERVER',\n",
    "                     'database_name': 'testdb'\n",
    "                     'driver_name': '{ODBC Driver 17 for SQL Server}'}\n",
    "path_to_query = os.path.join('SQL запросы', '(Тек.м) ДОЧЕРНИЕ Акции по LKA с тм збк new.sql')\n",
    "Thread_2 = Thread(target=read_sql, args=(connection_params, path_to_query, results, 0))\n",
    "Thread_2.start()"
   ]
  },
  {
   "cell_type": "code",
   "execution_count": null,
   "id": "1ec27af4",
   "metadata": {},
   "outputs": [],
   "source": [
    "# посмотрим, что получилось\n",
    "Thread_2.join() # ждем, пока выполнится последний запрос\n",
    "results"
   ]
  },
  {
   "cell_type": "code",
   "execution_count": null,
   "id": "e6bf352a",
   "metadata": {},
   "outputs": [],
   "source": [
    "df_sheet1 = results[0]\n",
    "df_sheet2 = results[1]\n",
    "\n",
    "del results"
   ]
  },
  {
   "cell_type": "code",
   "execution_count": 10,
   "id": "af1bf527",
   "metadata": {
    "scrolled": true
   },
   "outputs": [
    {
     "name": "stdout",
     "output_type": "stream",
     "text": [
      "Запрос выполнен...\n"
     ]
    }
   ],
   "source": [
    "print('Запрос выполнен...')"
   ]
  },
  {
   "cell_type": "markdown",
   "id": "d3aea6a1",
   "metadata": {},
   "source": [
    "#### Обработка данных"
   ]
  },
  {
   "cell_type": "markdown",
   "id": "6bf1a568",
   "metadata": {},
   "source": [
    "Далее можно провести обработку таблицы, используя библиотеку pandas. Например, избавиться от лишних пробелов в значениях, найти новые переменные (среднее, сумму и т.д.).   "
   ]
  },
  {
   "cell_type": "code",
   "execution_count": null,
   "id": "4a152bb0",
   "metadata": {},
   "outputs": [],
   "source": [
    "# создадим функцию, которая будет определять название месяца по его номеру\n",
    "def replace_func(row):\n",
    "    return name_of_months[row]"
   ]
  },
  {
   "cell_type": "code",
   "execution_count": null,
   "id": "eccff105",
   "metadata": {},
   "outputs": [],
   "source": [
    "# преобразуем входные данные\n",
    "df_sheet1['month_name'] = df_sheet1['month_name'].str.strip() # избавляемся от пустых строк в начале и в конце строки\n",
    "df_sheet2['month_name'] = df_sheet2['month_name'].str.strip()\n",
    "\n",
    "df_sheet1.loc[df_sheet1['month_name'] != '', 'month_name'] = pd.to_datetime(df_sheet1[df_sheet1['month_name'] != '']['month_name']).dt.month.astype(int) # присваиваем не пустым значения их номер месяца\n",
    "df_sheet2.loc[df_sheet2['month_name'] != '', 'month_name'] = pd.to_datetime(df_sheet2[df_sheet2['month_name'] != '']['month_name']).dt.month.astype(int)\n",
    "\n",
    "df_sheet1.loc[df_sheet1['month_name'] == '', 'month_name'] = 0 # пустые ячейки заполняем нулями\n",
    "df_sheet2.loc[df_sheet2['month_name'] == '', 'month_name'] = 0\n",
    "\n",
    "#pd.to_datetime(df[df[''] != ''][''], format='%d.%m.%Y').dt.month"
   ]
  },
  {
   "cell_type": "code",
   "execution_count": null,
   "id": "612beac5",
   "metadata": {},
   "outputs": [],
   "source": [
    "# применим функцию replace_func\n",
    "df_sheet1['month_name'] = df_sheet1['month_name'].apply(replace_func)\n",
    "df_sheet2['month_name'] = df_sheet2['month_name'].apply(replace_func)"
   ]
  },
  {
   "cell_type": "code",
   "execution_count": null,
   "id": "e27d240a",
   "metadata": {},
   "outputs": [],
   "source": [
    "# проводим чистку от лишних пробелов\n",
    "list_columns = ['shipment_start', 'shipment_end', 'holding_start', 'holding_end']\n",
    "for col in list_columns:\n",
    "    df_sheet1[col] = df_sheet1[col].str.strip() \n",
    "    df_sheet2[col] = df_sheet2[col].str.strip() "
   ]
  },
  {
   "cell_type": "markdown",
   "id": "dba6c83d",
   "metadata": {},
   "source": [
    "В этом отчете нужно отобразить две дополнительные колонки в виде формул (а не просто значение)."
   ]
  },
  {
   "cell_type": "code",
   "execution_count": null,
   "id": "3391cfcf",
   "metadata": {},
   "outputs": [],
   "source": [
    "# создадим колонки kod1 и kod2\n",
    "df_sheet1['kod1'] = range(6, len(df_sheet1)+6)\n",
    "df_sheet2['kod1'] = range(6, len(df_sheet2)+6)\n",
    "df_sheet1['kod2'] = range(6, len(df_sheet1)+6)\n",
    "df_sheet2['kod2'] = range(6, len(df_sheet2)+6)"
   ]
  },
  {
   "cell_type": "code",
   "execution_count": null,
   "id": "aea65eac",
   "metadata": {},
   "outputs": [],
   "source": [
    "# создаем функции для присвоение формул в этих колонках\n",
    "def formula_kod1(row):\n",
    "    return f'=CONCATENATE(A{row},\"S\",C{row},\"S\",G{row})'\n",
    "def formula_kod2(row):\n",
    "    return f'=CONCATENATE(A{row},\"S\",C{row},\"d\",SUM(P{row}:S{row}),\"s\",T{row},\"A\",M{row})'    "
   ]
  },
  {
   "cell_type": "code",
   "execution_count": null,
   "id": "0cddfd7f",
   "metadata": {},
   "outputs": [],
   "source": [
    "# применяем функции для kod1 и kod2\n",
    "df_sheet1['kod1'] = df_sheet1['kod1'].apply(formula_kod1)\n",
    "df_sheet2['kod1'] = df_sheet2['kod1'].apply(formula_kod1)\n",
    "df_sheet1['kod2'] = df_sheet1['kod2'].apply(formula_kod2)\n",
    "df_sheet2['kod2'] = df_sheet2['kod2'].apply(formula_kod2)"
   ]
  },
  {
   "cell_type": "markdown",
   "id": "4d686e4d",
   "metadata": {},
   "source": [
    "#### Внесение данных в эксель"
   ]
  },
  {
   "cell_type": "markdown",
   "id": "b6456e06",
   "metadata": {},
   "source": [
    "Теперь нужно залить данные в эксель. Для этого мы заранее подготовили шаблон (шапку), в которую мы и зальем наши данные."
   ]
  },
  {
   "cell_type": "code",
   "execution_count": 11,
   "id": "8487e24a",
   "metadata": {},
   "outputs": [],
   "source": [
    "# указываем путь, в котором хрантся наш шаблон, и путь, куда сохраним уже готовый отчет\n",
    "path_from = os.path.join('Excel шаблоны',\n",
    "                         'Акции по LKA (Текущий месяц) шаблон.xlsx')\n",
    "path_to = os.path.join(path_folders, \n",
    "                       f'Акции по LKA ({name_of_months[current_month]}) {date.today().strftime(\"%Y.%m.%d\")}.xlsx') "
   ]
  },
  {
   "cell_type": "code",
   "execution_count": 12,
   "id": "a829025c",
   "metadata": {},
   "outputs": [
    {
     "name": "stdout",
     "output_type": "stream",
     "text": [
      "Создается эксель файл...\n"
     ]
    }
   ],
   "source": [
    "print('Создается эксель файл...')"
   ]
  },
  {
   "cell_type": "code",
   "execution_count": null,
   "id": "67bf2cac",
   "metadata": {},
   "outputs": [],
   "source": [
    "#%%time\n",
    "\n",
    "wb = ox.load_workbook(path_from) # загружаем наш шаблон\n",
    "ws = wb['По головным'] # выбираем первый лист\n",
    "\n",
    "ws.cell(1, 2).value = f'Реестр акций по локальным ключевым клиентам (головные сети) за {name_of_months[current_month]}'\n",
    "ws.cell(2, 2).value = f'Дата: {current_date.strftime(\"%d.%m.%Y\")}'\n",
    "\n",
    "for ir in range(df_sheet1.shape[0]):\n",
    "    for ic in range(df_sheet1.shape[1]):\n",
    "        ws.cell(6 + ir, 1 + ic).value = df_sheet1.iloc[ir][ic] # заносим значения по ячеечкам\n",
    "    \n",
    "    for ic in [16, 17, 18, 19]:\n",
    "        ws.cell(6 + ir, ic).number_format = 'ДД.ММ.ГГГГ' # задаем формат ячеек\n",
    "        ws.cell(6 + ir, ic).alignment = Alignment(horizontal='right') # задаем выравнивание (по правому краю)\n",
    "    \n",
    "    for ic in [28, 29, 30, 31, 32, 33, 34, 35]:\n",
    "        ws.cell(6 + ir, ic).number_format = '#,##0' # задаем формат ячеек\n",
    "\n",
    "        \n",
    "ws = wb['По дочерним'] # выбираем второй лист\n",
    "\n",
    "for ir in range(df_sheet2.shape[0]):\n",
    "    for ic in range(df_sheet2.shape[1]):\n",
    "        ws.cell(6 + ir, 1 + ic).value = df_sheet2.iloc[ir][ic] # заносим значения по ячеечкам\n",
    "        \n",
    "    for ic in [16, 17, 18, 19]:\n",
    "        ws.cell(6 + ir, ic).number_format = 'ДД.ММ.ГГГГ' # задаем формат ячеек\n",
    "        ws.cell(6 + ir, ic).alignment = Alignment(horizontal='right') # задаем выравнивание (по правому краю)\n",
    "    \n",
    "    for ic in [28, 29, 30, 31, 32, 33, 34, 35]:\n",
    "        ws.cell(6 + ir, ic).number_format = '#,##0' # задаем формат ячеек\n",
    "        \n",
    "\n",
    "# ws.print_area = f\"A1:AI{5+len(df)}\" # определяем область печати (нужно указать вручную только диапозон столбцов, а строки сами подтянутся автоматом)\n",
    "\n",
    "wb.save(path_to) # сохраняемся"
   ]
  },
  {
   "cell_type": "code",
   "execution_count": 13,
   "id": "efb61cb4",
   "metadata": {},
   "outputs": [
    {
     "name": "stdout",
     "output_type": "stream",
     "text": [
      "'Изменилась дата отгрузки от 11.02.2023.xlsx' файл создан...\n"
     ]
    }
   ],
   "source": [
    "print(f''''Изменилась дата отгрузки от {date.today().strftime(\"%d.%m.%Y\")}.xlsx' файл создан...''')"
   ]
  },
  {
   "cell_type": "code",
   "execution_count": null,
   "id": "a4e85aff",
   "metadata": {},
   "outputs": [
    {
     "name": "stdout",
     "output_type": "stream",
     "text": [
      "-----\n",
      "-----\n",
      "Успех! Отчет выполнен.\n",
      "-----\n",
      "-----\n"
     ]
    }
   ],
   "source": [
    "print('-----')\n",
    "print('-----')\n",
    "print('Успех! Отчет выполнен. Можно закрыть консоль.')\n",
    "print('-----')\n",
    "print('-----')\n",
    "time.sleep(3600*23)"
   ]
  },
  {
   "cell_type": "code",
   "execution_count": null,
   "id": "ed84d3e5",
   "metadata": {},
   "outputs": [],
   "source": []
  },
  {
   "cell_type": "code",
   "execution_count": null,
   "id": "ba728053",
   "metadata": {},
   "outputs": [],
   "source": []
  },
  {
   "cell_type": "code",
   "execution_count": null,
   "id": "6d192f9c",
   "metadata": {},
   "outputs": [],
   "source": []
  },
  {
   "cell_type": "code",
   "execution_count": null,
   "id": "aecc965f",
   "metadata": {},
   "outputs": [],
   "source": []
  },
  {
   "cell_type": "code",
   "execution_count": null,
   "id": "20d53d35",
   "metadata": {},
   "outputs": [],
   "source": []
  }
 ],
 "metadata": {
  "kernelspec": {
   "display_name": "Python 3 (ipykernel)",
   "language": "python",
   "name": "python3"
  },
  "language_info": {
   "codemirror_mode": {
    "name": "ipython",
    "version": 3
   },
   "file_extension": ".py",
   "mimetype": "text/x-python",
   "name": "python",
   "nbconvert_exporter": "python",
   "pygments_lexer": "ipython3",
   "version": "3.9.0"
  }
 },
 "nbformat": 4,
 "nbformat_minor": 5
}
