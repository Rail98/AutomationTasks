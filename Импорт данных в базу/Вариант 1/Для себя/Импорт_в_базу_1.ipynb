{
 "cells": [
  {
   "cell_type": "markdown",
   "id": "226bdbd7",
   "metadata": {},
   "source": [
    "#### Простой случай\n",
    "\n",
    "У нас только один файл с данными, который нужно залить в базу."
   ]
  },
  {
   "cell_type": "code",
   "execution_count": 1,
   "id": "25766aa2",
   "metadata": {},
   "outputs": [],
   "source": [
    "# импортируем все нужные библиотеки для выполения кода\n",
    "import pandas as pd\n",
    "import pyodbc"
   ]
  },
  {
   "cell_type": "code",
   "execution_count": null,
   "id": "d4bfb52d",
   "metadata": {},
   "outputs": [],
   "source": [
    "# Для конвертации расширения .ipynb в .py прописываем в командной строке:\n",
    "# jupyter nbconvert Импорт_в_базу_1.ipynb --to script"
   ]
  },
  {
   "cell_type": "code",
   "execution_count": null,
   "id": "05fd3782",
   "metadata": {},
   "outputs": [],
   "source": [
    "# укажем, где хранится файл\n",
    "path = 'excel.xlsx'"
   ]
  },
  {
   "cell_type": "code",
   "execution_count": null,
   "id": "0a5f9d11",
   "metadata": {},
   "outputs": [],
   "source": [
    "# загрузим данные в df\n",
    "df = pd.read_excel(path) # sheet_name=1, skiprows=6, usecols='F:W' - дополнительные условия"
   ]
  },
  {
   "cell_type": "code",
   "execution_count": null,
   "id": "7523c38f",
   "metadata": {},
   "outputs": [],
   "source": [
    "# покажем первые пять строк\n",
    "df.head()"
   ]
  },
  {
   "cell_type": "code",
   "execution_count": null,
   "id": "ca7682cb",
   "metadata": {},
   "outputs": [],
   "source": [
    "# параметры соединения с базой\n",
    "sql_server = '192.168.2.128'\n",
    "database = 'analitic'\n",
    "driver = '{SQL Server Native Client 10.0}'\n",
    "conn_string = f'SERVER={sql_server};DATABASE={database};DRIVER={driver};Trusted_connection=Yes'"
   ]
  },
  {
   "cell_type": "code",
   "execution_count": null,
   "id": "8a5dedf8",
   "metadata": {},
   "outputs": [],
   "source": [
    "# устанавливаем соединение с базой\n",
    "conn = pyodbc.connect(conn_string)"
   ]
  },
  {
   "cell_type": "code",
   "execution_count": null,
   "id": "35262823",
   "metadata": {},
   "outputs": [],
   "source": [
    "# создаем таблицу в базе\n",
    "with conn.cursor() as cur:\n",
    "        create_table_query = '''\n",
    "                                CREATE TABLE tander_x5 (\n",
    "                                                        id int IDENTITY(1,1) PRIMARY KEY,\n",
    "                                                        network varchar (64),\n",
    "                                                        trade_point varchar (64),\n",
    "                                                        week int,\n",
    "                                                        producer varchar (64),\n",
    "                                                        brand varchar (64),\n",
    "                                                        product varchar (255),\n",
    "                                                        federal_district varchar (64),\n",
    "                                                        region varchar (64),\n",
    "                                                        city varchar (64),\n",
    "                                                        address varchar (max),\n",
    "                                                        category varchar (64),\n",
    "\n",
    "                                                        total_cost_price float,\n",
    "                                                        turnover_rub float,\n",
    "                                                        turnover_pieces float,\n",
    "                                                        weight float,\n",
    "                                                        barcode varchar (64)\n",
    "                                                         )\n",
    "                                   '''\n",
    "        cur.execute(create_table_query)\n",
    "        #cur.commit() указываем коммит, если нужно"
   ]
  },
  {
   "cell_type": "code",
   "execution_count": null,
   "id": "31642301",
   "metadata": {},
   "outputs": [],
   "source": [
    "#%%time\n",
    "# вносим данные в базу\n",
    "with conn.cursor() as cur:\n",
    "    for row in df.itertuples(name=None, index=False):\n",
    "        insert_query = '''INSERT INTO tander_x5 VALUES{}'''.format(row)\n",
    "        cur.execute(insert_query)"
   ]
  },
  {
   "cell_type": "code",
   "execution_count": null,
   "id": "32c27c64",
   "metadata": {},
   "outputs": [],
   "source": [
    "# отключаемся от базы\n",
    "conn.close()"
   ]
  },
  {
   "cell_type": "code",
   "execution_count": null,
   "id": "3aacab0f",
   "metadata": {},
   "outputs": [],
   "source": []
  },
  {
   "cell_type": "code",
   "execution_count": null,
   "id": "e655b3d7",
   "metadata": {},
   "outputs": [],
   "source": []
  },
  {
   "cell_type": "code",
   "execution_count": null,
   "id": "48b5f7ab",
   "metadata": {},
   "outputs": [],
   "source": []
  }
 ],
 "metadata": {
  "kernelspec": {
   "display_name": "Python 3 (ipykernel)",
   "language": "python",
   "name": "python3"
  },
  "language_info": {
   "codemirror_mode": {
    "name": "ipython",
    "version": 3
   },
   "file_extension": ".py",
   "mimetype": "text/x-python",
   "name": "python",
   "nbconvert_exporter": "python",
   "pygments_lexer": "ipython3",
   "version": "3.9.0"
  }
 },
 "nbformat": 4,
 "nbformat_minor": 5
}
