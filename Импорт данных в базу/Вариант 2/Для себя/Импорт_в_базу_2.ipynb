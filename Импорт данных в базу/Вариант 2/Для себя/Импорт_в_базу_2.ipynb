{
 "cells": [
  {
   "cell_type": "markdown",
   "id": "226bdbd7",
   "metadata": {},
   "source": [
    "#### Общий случай\n",
    "У нас несколько файлов с данными, которые нужно залить в базу. Важно, чтобы кол-во столбцов совпадало у всех."
   ]
  },
  {
   "cell_type": "code",
   "execution_count": 1,
   "id": "25766aa2",
   "metadata": {},
   "outputs": [],
   "source": [
    "import pandas as pd\n",
    "import pyodbc\n",
    "import os"
   ]
  },
  {
   "cell_type": "code",
   "execution_count": null,
   "id": "71f69cb1",
   "metadata": {},
   "outputs": [],
   "source": [
    "# указываем путь к папке, куда были сохранены данные\n",
    "path_to_dir = 'Import data'"
   ]
  },
  {
   "cell_type": "code",
   "execution_count": null,
   "id": "6100cc4a",
   "metadata": {},
   "outputs": [],
   "source": [
    "# сохраняем в отдельный лист, пути к файлам\n",
    "paths_list = []\n",
    "for file in os.listdir(path_to_dir):\n",
    "    if file.endswith(\".xlsx\"):\n",
    "        paths_list.append(file)"
   ]
  },
  {
   "cell_type": "code",
   "execution_count": null,
   "id": "5983d5a8",
   "metadata": {},
   "outputs": [],
   "source": [
    "# параметры соединения с базой\n",
    "sql_server = '192.168.2.128'\n",
    "database = 'analitic'\n",
    "driver = '{SQL Server Native Client 10.0}'\n",
    "conn_string = f'SERVER={sql_server};DATABASE={database};DRIVER={driver};Trusted_connection=Yes'"
   ]
  },
  {
   "cell_type": "code",
   "execution_count": null,
   "id": "53438f58",
   "metadata": {},
   "outputs": [],
   "source": [
    "# устанавливаем соединение с базой\n",
    "conn = pyodbc.connect(conn_string)"
   ]
  },
  {
   "cell_type": "code",
   "execution_count": null,
   "id": "29355ad0",
   "metadata": {},
   "outputs": [],
   "source": [
    "# создаем таблицу в базе\n",
    "with conn.cursor() as cur:\n",
    "        create_table_query = '''\n",
    "                                CREATE TABLE tander_x5 (\n",
    "                                                        id int IDENTITY(1,1) PRIMARY KEY,\n",
    "                                                        network varchar (64),\n",
    "                                                        ...\n",
    "                                                         )\n",
    "                                   '''\n",
    "        cur.execute(create_table_query)\n",
    "        #cur.commit() указываем коммит, если по умолчанию не стоит autocommit=True"
   ]
  },
  {
   "cell_type": "code",
   "execution_count": null,
   "id": "194b8060",
   "metadata": {},
   "outputs": [],
   "source": [
    "# insert функция\n",
    "def insert_data(connection, df):\n",
    "    with connection.cursor() as cur:\n",
    "        for row in df.itertuples(name=None, index=False):\n",
    "            insert_query = '''INSERT INTO tander_x5 VALUES{}'''.format(row)\n",
    "            cur.execute(insert_query)"
   ]
  },
  {
   "cell_type": "code",
   "execution_count": null,
   "id": "0a5f9d11",
   "metadata": {},
   "outputs": [],
   "source": [
    "# пробегаемся по всем файлам, чтобы поочередно залить в базу каждый из них  \n",
    "for path in paths_list:\n",
    "    df = pd.read_excel(path) # sheet_name=1, skiprows=6, usecols='F:W' - дополнительные условия\n",
    "    insert_data(conn, df) # вносим данные в базу"
   ]
  },
  {
   "cell_type": "code",
   "execution_count": null,
   "id": "32c27c64",
   "metadata": {},
   "outputs": [],
   "source": [
    "# отключаемся от базы\n",
    "conn.close()"
   ]
  },
  {
   "cell_type": "code",
   "execution_count": null,
   "id": "48b5f7ab",
   "metadata": {},
   "outputs": [],
   "source": []
  }
 ],
 "metadata": {
  "kernelspec": {
   "display_name": "Python 3 (ipykernel)",
   "language": "python",
   "name": "python3"
  },
  "language_info": {
   "codemirror_mode": {
    "name": "ipython",
    "version": 3
   },
   "file_extension": ".py",
   "mimetype": "text/x-python",
   "name": "python",
   "nbconvert_exporter": "python",
   "pygments_lexer": "ipython3",
   "version": "3.9.0"
  }
 },
 "nbformat": 4,
 "nbformat_minor": 5
}
